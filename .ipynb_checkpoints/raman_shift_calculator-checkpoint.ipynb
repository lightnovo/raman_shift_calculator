{
 "cells": [
  {
   "cell_type": "markdown",
   "id": "acbc57dd-7ebb-49d5-8200-c43711259fa4",
   "metadata": {},
   "source": [
    "# Raman shift calculator"
   ]
  },
  {
   "cell_type": "markdown",
   "id": "cbc9d08f-dd81-4674-8c90-c00d3e5cc00e",
   "metadata": {
    "tags": []
   },
   "source": [
    "## Lightnovo ApS"
   ]
  },
  {
   "cell_type": "markdown",
   "id": "154d3355-bbd3-4e8e-826b-79d745a3ebd4",
   "metadata": {
    "tags": []
   },
   "source": [
    "### info@lightnovo.com"
   ]
  },
  {
   "cell_type": "markdown",
   "id": "eb25135d-1c9b-48df-9b2c-d09b29ea78f6",
   "metadata": {},
   "source": [
    "Copyright 2024 Lightnovo ApS"
   ]
  },
  {
   "cell_type": "markdown",
   "id": "85d9aa2a-dd64-465e-a800-2d03881c9aec",
   "metadata": {
    "tags": []
   },
   "source": [
    "Licensing: MIT license"
   ]
  },
  {
   "cell_type": "code",
   "execution_count": 1,
   "id": "e899b9e3-46f9-480e-8698-0309f8ef2bef",
   "metadata": {
    "tags": []
   },
   "outputs": [],
   "source": [
    "def raman_shift(laser_wavelength, raman_wavelength):\n",
    "    return 1e7/laser_wavelength - 1e7/raman_wavelength"
   ]
  },
  {
   "cell_type": "code",
   "execution_count": 2,
   "id": "f605f4f6-5fd5-4f71-a46c-f9d05146b667",
   "metadata": {
    "tags": []
   },
   "outputs": [],
   "source": [
    "def raman_wavelength(laser_wavelength, raman_shift):\n",
    "    return 1e7/(1e7/laser_wavelength - raman_shift)"
   ]
  },
  {
   "cell_type": "markdown",
   "id": "6e2c8042-132a-4843-aa65-eb8f1a6876a9",
   "metadata": {},
   "source": [
    "examples:"
   ]
  },
  {
   "cell_type": "code",
   "execution_count": 3,
   "id": "b560e8f7-5755-40b4-81e6-00a6761b1d96",
   "metadata": {
    "tags": []
   },
   "outputs": [
    {
     "data": {
      "text/plain": [
       "2738.853503184713"
      ]
     },
     "execution_count": 3,
     "metadata": {},
     "output_type": "execute_result"
    }
   ],
   "source": [
    "raman_shift(785,1000)"
   ]
  },
  {
   "cell_type": "code",
   "execution_count": 4,
   "id": "56d812c8-a5b2-4cab-b293-e4a705a254f7",
   "metadata": {
    "tags": []
   },
   "outputs": [
    {
     "data": {
      "text/plain": [
       "8796.992481203008"
      ]
     },
     "execution_count": 4,
     "metadata": {},
     "output_type": "execute_result"
    }
   ],
   "source": [
    "raman_shift(532,1000)"
   ]
  },
  {
   "cell_type": "code",
   "execution_count": 5,
   "id": "f402bb2f-12c6-4a05-ae59-dc0591ed32dd",
   "metadata": {
    "tags": []
   },
   "outputs": [
    {
     "data": {
      "text/plain": [
       "818.407389645322"
      ]
     },
     "execution_count": 5,
     "metadata": {},
     "output_type": "execute_result"
    }
   ],
   "source": [
    "raman_wavelength(785,520)"
   ]
  },
  {
   "cell_type": "code",
   "execution_count": 6,
   "id": "dade1c7e-7264-45d0-9806-953f9594899a",
   "metadata": {
    "tags": []
   },
   "outputs": [
    {
     "data": {
      "text/plain": [
       "547.1359694591171"
      ]
     },
     "execution_count": 6,
     "metadata": {},
     "output_type": "execute_result"
    }
   ],
   "source": [
    "raman_wavelength(532,520)"
   ]
  }
 ],
 "metadata": {
  "kernelspec": {
   "display_name": "Python 3 (ipykernel)",
   "language": "python",
   "name": "python3"
  },
  "language_info": {
   "codemirror_mode": {
    "name": "ipython",
    "version": 3
   },
   "file_extension": ".py",
   "mimetype": "text/x-python",
   "name": "python",
   "nbconvert_exporter": "python",
   "pygments_lexer": "ipython3",
   "version": "3.11.5"
  }
 },
 "nbformat": 4,
 "nbformat_minor": 5
}
